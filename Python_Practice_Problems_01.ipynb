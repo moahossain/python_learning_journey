{
  "nbformat": 4,
  "nbformat_minor": 0,
  "metadata": {
    "colab": {
      "provenance": []
    },
    "kernelspec": {
      "name": "python3",
      "display_name": "Python 3"
    },
    "language_info": {
      "name": "python"
    }
  },
  "cells": [
    {
      "cell_type": "markdown",
      "source": [
        "## Part 1: Input & Data Types"
      ],
      "metadata": {
        "id": "bTfW1er_2YRH"
      }
    },
    {
      "cell_type": "markdown",
      "source": [
        "Q1. Ask the user to enter their name and age. Print this format:\n",
        "Hello Ahsan, you are 25 years old.\n"
      ],
      "metadata": {
        "id": "zK3cNhbv2dPi"
      }
    },
    {
      "cell_type": "code",
      "source": [
        "# Input name and age\n",
        "name = input(\"Enter your name: \")\n",
        "age = int(input(\"Enter your age: \"))\n",
        "\n",
        "# Print the message\n",
        "print(f\"Hello {name}, you are {age} years old\")"
      ],
      "metadata": {
        "colab": {
          "base_uri": "https://localhost:8080/"
        },
        "id": "G4ZnXLWL2h0w",
        "outputId": "07472add-2f3d-4eac-9590-e5fc26749416"
      },
      "execution_count": 1,
      "outputs": [
        {
          "output_type": "stream",
          "name": "stdout",
          "text": [
            "Enter your name: Ahsan\n",
            "Enter your age: 25\n",
            "Hello Ahsan, you are 25 years old\n"
          ]
        }
      ]
    },
    {
      "cell_type": "markdown",
      "source": [
        "Q2. Take two numbers from the user and print their: Addition, Subtraction, Multiplication, & Division\n",
        "\n",
        "Sample Output: Sum: 15, Sub: 5, Mul: 50, Div: 2.5\n"
      ],
      "metadata": {
        "id": "_UM4WPjA3-2h"
      }
    },
    {
      "cell_type": "code",
      "source": [
        "# Taking 2 input from user\n",
        "num_1 = int(input(\"Enter first number: \"))\n",
        "num_2 = int(input(\"Enter second number: \"))\n",
        "\n",
        "# Calculate 2 numbers\n",
        "addition = num_1 + num_2\n",
        "subtraction = num_1 - num_2\n",
        "multiplication = num_1 * num_2\n",
        "division = num_1 / num_2\n",
        "\n",
        "#print the masseges\n",
        "print(f\"Sample Output: Sum: {addition}, Sub: {subtraction}, Mul: {multiplication}, Div: {division}\")"
      ],
      "metadata": {
        "colab": {
          "base_uri": "https://localhost:8080/"
        },
        "id": "p0djgYu94R-l",
        "outputId": "9ab8f515-efdf-4042-ca17-10f7b011a512"
      },
      "execution_count": 2,
      "outputs": [
        {
          "output_type": "stream",
          "name": "stdout",
          "text": [
            "Enter first number: 12\n",
            "Enter second number: 22\n",
            "Sample Output: Sum: 34, Sub: -10, Mul: 264, Div: 0.5454545454545454\n"
          ]
        }
      ]
    },
    {
      "cell_type": "markdown",
      "source": [
        "Q3. Take 3 numbers in one input line and print the average.\n",
        "(Hint: Use split() and map())\n"
      ],
      "metadata": {
        "id": "ib_-M5nv56fG"
      }
    },
    {
      "cell_type": "code",
      "source": [
        "# Input 3 numbers in 1 line\n",
        "num_1, num_2, num_3 = map(int, input(\"Enter 3 numbers by space: \").split())\n",
        "\n",
        "# Checking average\n",
        "avg = (num_1 + num_2 + num_3)/3\n",
        "print(f\"Average: {avg}\")"
      ],
      "metadata": {
        "colab": {
          "base_uri": "https://localhost:8080/"
        },
        "id": "s2rGyIbC6AM5",
        "outputId": "a83faa25-3fdf-4bd1-bcdc-356a62351eb4"
      },
      "execution_count": 3,
      "outputs": [
        {
          "output_type": "stream",
          "name": "stdout",
          "text": [
            "Enter 3 numbers by space: 2 4 6\n",
            "Average: 4.0\n"
          ]
        }
      ]
    },
    {
      "cell_type": "markdown",
      "source": [
        "## Part 2: Arithmetic Operators"
      ],
      "metadata": {
        "id": "48f2n2dV9bc0"
      }
    },
    {
      "cell_type": "markdown",
      "source": [
        "Q4. Write a program that takes a number from the user and prints: Square of the number, Cube of the number.\n",
        "(Hint: Use **)\n"
      ],
      "metadata": {
        "id": "qBtKaA6l9i50"
      }
    },
    {
      "cell_type": "code",
      "source": [
        "# Take input the number\n",
        "num = int(input(\"Enter the number: \"))\n",
        "\n",
        "# Square & Cube the number\n",
        "sqr = num**2\n",
        "qub = num**3\n",
        "\n",
        "# print the result\n",
        "print(f\"Square of the number: {sqr}, Cube of the number: {qub}\")"
      ],
      "metadata": {
        "colab": {
          "base_uri": "https://localhost:8080/"
        },
        "id": "gYOqXQzo9rkO",
        "outputId": "f9aeebc2-1e86-4a36-e279-f35b413d8746"
      },
      "execution_count": 4,
      "outputs": [
        {
          "output_type": "stream",
          "name": "stdout",
          "text": [
            "Enter the number: 12\n",
            "Square of the number: 144, Cube of the number: 1728\n"
          ]
        }
      ]
    },
    {
      "cell_type": "markdown",
      "source": [
        "Q5. Ask the user for a number. Print whether the number is even or odd.\n",
        "(Hint: Use % operator)\n"
      ],
      "metadata": {
        "id": "8gHMut8m-aDW"
      }
    },
    {
      "cell_type": "code",
      "source": [
        "# Take input the number\n",
        "num = int(input(\"Enter the number: \"))\n",
        "\n",
        "# Even/odd checking\n",
        "even = num % 2 == 0\n",
        "odd = num % 2 == 1\n",
        "\n",
        "# print the result\n",
        "if even:\n",
        "    print(f\"{num} is even\")\n",
        "else:\n",
        "  print(f\"{num} is odd\")"
      ],
      "metadata": {
        "colab": {
          "base_uri": "https://localhost:8080/"
        },
        "id": "SbH-QucB-iDS",
        "outputId": "00ff050c-e159-427c-aa6c-124cee4ce168"
      },
      "execution_count": 5,
      "outputs": [
        {
          "output_type": "stream",
          "name": "stdout",
          "text": [
            "Enter the number: 22\n",
            "22 is even\n"
          ]
        }
      ]
    },
    {
      "cell_type": "markdown",
      "source": [
        "Q6. Start with a variable x = 10.\n",
        "Use +=, -=, *=, /= to update the value step-by-step and print the result after each update.\n"
      ],
      "metadata": {
        "id": "bzB42KKgA1uk"
      }
    },
    {
      "cell_type": "code",
      "source": [
        "# Define variable\n",
        "x = 10\n",
        "\n",
        "# Useng assignment operators\n",
        "x += 5\n",
        "print(f\"x += 5: {x}\")\n",
        "\n",
        "x -= 5\n",
        "print(f\"x -= 5: {x}\")\n",
        "\n",
        "x *= 2\n",
        "print(f\"x *= 2: {x}\")\n",
        "\n",
        "x /= 2\n",
        "print(f\"x /= 2: {x}\")"
      ],
      "metadata": {
        "colab": {
          "base_uri": "https://localhost:8080/"
        },
        "id": "6mEM-TfEA8m_",
        "outputId": "c47963ea-75ba-4a73-bc2c-763fea3a6582"
      },
      "execution_count": 6,
      "outputs": [
        {
          "output_type": "stream",
          "name": "stdout",
          "text": [
            "x += 5: 15\n",
            "x -= 5: 10\n",
            "x *= 2: 20\n",
            "x /= 2: 10.0\n"
          ]
        }
      ]
    },
    {
      "cell_type": "markdown",
      "source": [
        "## Part 4: Comparison Operators\n"
      ],
      "metadata": {
        "id": "8D5_k8DJCPwf"
      }
    },
    {
      "cell_type": "markdown",
      "source": [
        "Q7. Ask two ages and check:\n",
        "Are the ages equal? Is the first age greater? Is the second age less or equal to the first?\n",
        "\n",
        "Print the results as True/False.\n"
      ],
      "metadata": {
        "id": "5igHWj2CCRkd"
      }
    },
    {
      "cell_type": "code",
      "source": [
        " # Take the input\n",
        "age_1 = int(input(\"Enter first age: \"))\n",
        "age_2 = int(input(\"Enter second age: \"))\n",
        "\n",
        "# Checking the ages\n",
        "are_equal = age_1 == age_2\n",
        "is_greater = age_1 > age_2\n",
        "is_less_equal = age_2 <= age_1\n",
        "\n",
        "# Print the result\n",
        "print(f\"Are the ages equal? {are_equal}\")\n",
        "print(f\"Is the first age greater? {is_greater}\")\n",
        "print(f\"Is the second age less or equal to the first? {is_less_equal}\")\n"
      ],
      "metadata": {
        "colab": {
          "base_uri": "https://localhost:8080/"
        },
        "id": "cC4WTjXMCcOL",
        "outputId": "2c7dd179-fe67-4321-9be5-22f171041719"
      },
      "execution_count": 7,
      "outputs": [
        {
          "output_type": "stream",
          "name": "stdout",
          "text": [
            "Enter first age: 26\n",
            "Enter second age: 28\n",
            "Are the ages equal? False\n",
            "Is the first age greater? False\n",
            "Is the second age less or equal to the first? False\n"
          ]
        }
      ]
    },
    {
      "cell_type": "markdown",
      "source": [
        "## Part 5: Logical Operators\n"
      ],
      "metadata": {
        "id": "tBLFq7pBDDK2"
      }
    },
    {
      "cell_type": "markdown",
      "source": [
        "Q8.\n",
        "Take a number from the user.\n",
        "Print \"Valid Age\" if age is between 18 and 60 (both included).\n",
        "Otherwise, print \"Not Valid Age\".\n",
        "(Hint: Use and)\n"
      ],
      "metadata": {
        "id": "fsE2AJgXDG41"
      }
    },
    {
      "cell_type": "code",
      "source": [
        "# Take the input\n",
        "age = int(input(\"Enter your age: \"))\n",
        "\n",
        "# Check the valid age\n",
        "valid_age = age >= 18 and age <= 60\n",
        "\n",
        "# Print the result\n",
        "if valid_age:\n",
        "    print(\"Valid Age\")\n",
        "else:\n",
        "    print(\"Not Valid Age\")"
      ],
      "metadata": {
        "colab": {
          "base_uri": "https://localhost:8080/"
        },
        "id": "PRvFMjWTDNBN",
        "outputId": "0d7e30b3-56b6-4d86-a96d-ac40f488b989"
      },
      "execution_count": 8,
      "outputs": [
        {
          "output_type": "stream",
          "name": "stdout",
          "text": [
            "Enter your age: 25\n",
            "Valid Age\n"
          ]
        }
      ]
    },
    {
      "cell_type": "markdown",
      "source": [
        "Q9. Ask the user: \"Are you a student?\" and \"Do you have an ID card?\"\n",
        "If either answer is \"yes\", print \"Access Granted\", else print \"Access Denied\".\n",
        "(Hint: Use or)\n"
      ],
      "metadata": {
        "id": "NPzlmH59D91d"
      }
    },
    {
      "cell_type": "code",
      "source": [
        "# Ask question\n",
        "is_student = input(\"Are you a student? (yes/no): \")\n",
        "has_id = input(\"Do you have an ID card? (yes/no): \")\n",
        "\n",
        "# Checking the result\n",
        "if is_student == \"yes\" or has_id == \"yes\":\n",
        "    print(\"Access Granted\")\n",
        "else:\n",
        "    print(\"Access Denied\")"
      ],
      "metadata": {
        "colab": {
          "base_uri": "https://localhost:8080/"
        },
        "id": "ZmpIa185EAyZ",
        "outputId": "021ece10-2e11-4460-9980-7d66ba23ca03"
      },
      "execution_count": 9,
      "outputs": [
        {
          "output_type": "stream",
          "name": "stdout",
          "text": [
            "Are you a student? (yes/no): yes\n",
            "Do you have an ID card? (yes/no): yes\n",
            "Access Granted\n"
          ]
        }
      ]
    },
    {
      "cell_type": "markdown",
      "source": [
        "## Part 6: Membership & Identity Operators\n"
      ],
      "metadata": {
        "id": "4zGsnLmeEjAh"
      }
    },
    {
      "cell_type": "markdown",
      "source": [
        "Q10. Check if the letter \"a\" exists in the user’s input word.\n",
        "Print: \"Letter found\" or \"Letter not found\".\n"
      ],
      "metadata": {
        "id": "VNXJi_L_Elkm"
      }
    },
    {
      "cell_type": "code",
      "source": [
        "# Taking word input\n",
        "check_letter = input(\"Enter the word: \")\n",
        "\n",
        "# Checking the letter\n",
        "if \"a\" in check_letter:\n",
        "    print(\"Letter found\")\n",
        "else:\n",
        "    print(\"Letter not found\")"
      ],
      "metadata": {
        "colab": {
          "base_uri": "https://localhost:8080/"
        },
        "id": "fYFdA79CEoqo",
        "outputId": "81852b7b-5d77-4a1c-ec8b-ba1420539830"
      },
      "execution_count": 10,
      "outputs": [
        {
          "output_type": "stream",
          "name": "stdout",
          "text": [
            "Enter the word: Ahsan\n",
            "Letter found\n"
          ]
        }
      ]
    },
    {
      "cell_type": "markdown",
      "source": [
        "Q11. Create two lists with the same values and check:\n",
        " list1 == list2\n",
        "\n",
        "list1 is list2\n",
        "Explain the difference in comments.\n",
        "\n"
      ],
      "metadata": {
        "id": "k926nEelFBba"
      }
    },
    {
      "cell_type": "code",
      "source": [
        "# Input 2 list\n",
        "list1 = [1, 2, 3]\n",
        "list2 = [1, 2, 3]\n",
        "\n",
        "# Checking the list\n",
        "print(f\"list1 == list2: {list1 == list2}\")\n",
        "print(f\"list1 is list2: {list1 is list2}\")\n",
        "\n",
        "# list1 and list2 are same that's why it says True but when it checking is list1 is in list2 it showed fals because it's not in the same location"
      ],
      "metadata": {
        "colab": {
          "base_uri": "https://localhost:8080/"
        },
        "id": "wciRNsAMFLiB",
        "outputId": "6cdbaff3-5f9f-4ea6-d68c-9c490e8d132a"
      },
      "execution_count": 11,
      "outputs": [
        {
          "output_type": "stream",
          "name": "stdout",
          "text": [
            "list1 == list2: True\n",
            "list1 is list2: False\n"
          ]
        }
      ]
    },
    {
      "cell_type": "markdown",
      "source": [
        "Q12. Create a small calculator that takes two numbers and an operator from the user (+, -, *, /) and prints the result.\n",
        "\n",
        "Example input:\n",
        "Enter first number: 10\n",
        "Enter operator: *\n",
        "Enter second number: 3\n",
        "Output: 30\n"
      ],
      "metadata": {
        "id": "dBxWrNK4GM4M"
      }
    },
    {
      "cell_type": "code",
      "source": [
        "# Take first input\n",
        "num_1 = int(input(\"Enter first number: \"))\n",
        "\n",
        "# Enter the operators\n",
        "operator = input(\"Enter operator: \")\n",
        "\n",
        "# Now take the second input\n",
        "num_2 = int(input(\"Enter second number: \"))\n",
        "\n",
        "# Calculating using operator and print the result\n",
        "if operator == '+':\n",
        "    add = num_1 + num_2\n",
        "    print(f\"Output: {add}\")\n",
        "elif operator == '-':\n",
        "    sub = num_1 - num_2\n",
        "    print(f\"Output: {sub}\")\n",
        "elif operator == '*':\n",
        "    mul = num_1 * num_2\n",
        "    print(f\"Output: {mul}\")\n",
        "elif operator == '/':\n",
        "    div = num_1 / num_2\n",
        "    print(f\"Output: {div}\")\n",
        "else:\n",
        "    print(\"Invalid operator\")"
      ],
      "metadata": {
        "colab": {
          "base_uri": "https://localhost:8080/"
        },
        "id": "pcfhb2dHGSuV",
        "outputId": "ef42193e-9aac-4dab-8b4b-1a061607af20"
      },
      "execution_count": 12,
      "outputs": [
        {
          "output_type": "stream",
          "name": "stdout",
          "text": [
            "Enter first number: 22\n",
            "Enter operator: +\n",
            "Enter second number: 33\n",
            "Output: 55\n"
          ]
        }
      ]
    }
  ]
}